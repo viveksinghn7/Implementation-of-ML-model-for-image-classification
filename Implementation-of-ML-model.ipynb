{
 "cells": [
  {
   "cell_type": "code",
   "execution_count": null,
   "id": "4a185c45-2b4f-4eca-8696-84dc13407f0f",
   "metadata": {
    "executionInfo": {
     "elapsed": 471,
     "status": "ok",
     "timestamp": 1733824339821,
     "user": {
      "displayName": "Viveksingh Negi",
      "userId": "03031367474989536110"
     },
     "user_tz": -330
    },
    "id": "4a185c45-2b4f-4eca-8696-84dc13407f0f"
   },
   "outputs": [],
   "source": [
    "import tensorflow as tf\n",
    "import matplotlib.pyplot as plt"
   ]
  },
  {
   "cell_type": "code",
   "execution_count": null,
   "id": "679d310b-db54-4dda-a719-08e76b2251de",
   "metadata": {
    "colab": {
     "base_uri": "https://localhost:8080/"
    },
    "executionInfo": {
     "elapsed": 413,
     "status": "ok",
     "timestamp": 1733824352079,
     "user": {
      "displayName": "Viveksingh Negi",
      "userId": "03031367474989536110"
     },
     "user_tz": -330
    },
    "id": "679d310b-db54-4dda-a719-08e76b2251de",
    "outputId": "76613ae5-d81d-4d05-8d1d-73c1e8ecab8c"
   },
   "outputs": [],
   "source": [
    "physical_devices = tf.config.experimental.list_physical_devices('GPU')\n",
    "print(\"Num GPUs Available: \", len(physical_devices))"
   ]
  },
  {
   "cell_type": "code",
   "execution_count": null,
   "id": "8ed6133f-d804-4caa-abe7-4feb9ec4895a",
   "metadata": {
    "executionInfo": {
     "elapsed": 1175,
     "status": "ok",
     "timestamp": 1733824354787,
     "user": {
      "displayName": "Viveksingh Negi",
      "userId": "03031367474989536110"
     },
     "user_tz": -330
    },
    "id": "8ed6133f-d804-4caa-abe7-4feb9ec4895a"
   },
   "outputs": [],
   "source": [
    "from keras.datasets import cifar10\n",
    "(x_train, y_train), (x_test, y_test) = cifar10.load_data()"
   ]
  },
  {
   "cell_type": "code",
   "execution_count": null,
   "id": "e214f855-683a-4d9d-a0c9-d7e95591d760",
   "metadata": {
    "colab": {
     "base_uri": "https://localhost:8080/",
     "height": 176
    },
    "executionInfo": {
     "elapsed": 1962,
     "status": "ok",
     "timestamp": 1733824360181,
     "user": {
      "displayName": "Viveksingh Negi",
      "userId": "03031367474989536110"
     },
     "user_tz": -330
    },
    "id": "e214f855-683a-4d9d-a0c9-d7e95591d760",
    "outputId": "060e06b0-7520-4c27-d67b-71a4628617d7"
   },
   "outputs": [],
   "source": [
    "cifar10_classes = ['airplane', 'automobile', 'bird', 'cat', 'deer', 'dog', 'frog', 'horse', 'ship', 'truck']\n",
    "print('Example training images and their labels: ' + str([x[0] for x in y_train[0:10]]))\n",
    "print('Corresponding classes for the labels: ' + str([cifar10_classes[x[0]] for x in y_train[0:10]]))\n",
    "\n",
    "fig, axarr = plt.subplots(1, 10)\n",
    "fig.set_size_inches(20, 6)\n",
    "\n",
    "for i in range(10):\n",
    "    image = x_train[i]\n",
    "    axarr[i].imshow(image)\n",
    "plt.show()"
   ]
  },
  {
   "cell_type": "code",
   "execution_count": null,
   "id": "1cc119ef-aa7b-4a4c-9724-04b89695e151",
   "metadata": {
    "colab": {
     "base_uri": "https://localhost:8080/"
    },
    "executionInfo": {
     "elapsed": 404,
     "status": "ok",
     "timestamp": 1733824366053,
     "user": {
      "displayName": "Viveksingh Negi",
      "userId": "03031367474989536110"
     },
     "user_tz": -330
    },
    "id": "1cc119ef-aa7b-4a4c-9724-04b89695e151",
    "outputId": "91d3ecb7-2556-4ffe-a0ac-e9ee36a2e528"
   },
   "outputs": [],
   "source": [
    "x_train.shape, y_train.shape, x_test.shape, y_test.shape"
   ]
  },
  {
   "cell_type": "code",
   "execution_count": null,
   "id": "2a1565f1-ca48-439f-a312-5cd45f510ce4",
   "metadata": {
    "executionInfo": {
     "elapsed": 888,
     "status": "ok",
     "timestamp": 1733824368416,
     "user": {
      "displayName": "Viveksingh Negi",
      "userId": "03031367474989536110"
     },
     "user_tz": -330
    },
    "id": "2a1565f1-ca48-439f-a312-5cd45f510ce4"
   },
   "outputs": [],
   "source": [
    "X_train = x_train / 255.0\n",
    "X_test = x_test / 255.0"
   ]
  },
  {
   "cell_type": "code",
   "execution_count": null,
   "id": "b566c040-dd73-45ce-b6cd-1eb39b815a95",
   "metadata": {
    "executionInfo": {
     "elapsed": 10,
     "status": "ok",
     "timestamp": 1733824369858,
     "user": {
      "displayName": "Viveksingh Negi",
      "userId": "03031367474989536110"
     },
     "user_tz": -330
    },
    "id": "b566c040-dd73-45ce-b6cd-1eb39b815a95"
   },
   "outputs": [],
   "source": [
    "from tensorflow import keras\n",
    "from keras.layers import Dense\n",
    "from keras.layers import Flatten"
   ]
  },
  {
   "cell_type": "code",
   "execution_count": null,
   "id": "21da1d2f-d500-4487-94b2-e97d0db6153d",
   "metadata": {
    "executionInfo": {
     "elapsed": 497,
     "status": "ok",
     "timestamp": 1733824372098,
     "user": {
      "displayName": "Viveksingh Negi",
      "userId": "03031367474989536110"
     },
     "user_tz": -330
    },
    "id": "21da1d2f-d500-4487-94b2-e97d0db6153d"
   },
   "outputs": [],
   "source": [
    "ann = keras.Sequential()\n",
    "ann.add(Flatten(input_shape=(32,32,3)))\n",
    "ann.add(Dense(2048,activation='relu'))\n",
    "ann.add(Dense(10,activation='softmax'))"
   ]
  },
  {
   "cell_type": "code",
   "execution_count": null,
   "id": "8be4a238-ab59-4098-a06e-b2bc13fe1ef6",
   "metadata": {
    "colab": {
     "base_uri": "https://localhost:8080/",
     "height": 225
    },
    "executionInfo": {
     "elapsed": 427,
     "status": "ok",
     "timestamp": 1733824378984,
     "user": {
      "displayName": "Viveksingh Negi",
      "userId": "03031367474989536110"
     },
     "user_tz": -330
    },
    "id": "8be4a238-ab59-4098-a06e-b2bc13fe1ef6",
    "outputId": "42496841-b435-4465-9821-7d5c97ca034e"
   },
   "outputs": [],
   "source": [
    "ann.summary()"
   ]
  },
  {
   "cell_type": "code",
   "execution_count": null,
   "id": "7a7ca91b-5c8d-4f17-86ec-f1cd20cb79a9",
   "metadata": {
    "executionInfo": {
     "elapsed": 592,
     "status": "ok",
     "timestamp": 1733824385012,
     "user": {
      "displayName": "Viveksingh Negi",
      "userId": "03031367474989536110"
     },
     "user_tz": -330
    },
    "id": "7a7ca91b-5c8d-4f17-86ec-f1cd20cb79a9"
   },
   "outputs": [],
   "source": [
    "ann.compile(loss='sparse_categorical_crossentropy',optimizer='adam',metrics=['accuracy'])"
   ]
  },
  {
   "cell_type": "code",
   "execution_count": null,
   "id": "12fb9f9c-335f-4b70-a930-2392dc264d0b",
   "metadata": {
    "colab": {
     "base_uri": "https://localhost:8080/"
    },
    "executionInfo": {
     "elapsed": 12203,
     "status": "ok",
     "timestamp": 1733823418433,
     "user": {
      "displayName": "Viveksingh Negi",
      "userId": "03031367474989536110"
     },
     "user_tz": -330
    },
    "id": "12fb9f9c-335f-4b70-a930-2392dc264d0b",
    "outputId": "ebceac16-48c6-4665-dc79-87f2580a147d"
   },
   "outputs": [],
   "source": [
    "history = ann.fit(X_train ,y_train,epochs=25,validation_data=(X_test,y_test))"
   ]
  },
  {
   "cell_type": "code",
   "execution_count": null,
   "id": "138c8b98-65fb-4072-8b91-c19a3e6378b6",
   "metadata": {
    "colab": {
     "base_uri": "https://localhost:8080/",
     "height": 447
    },
    "executionInfo": {
     "elapsed": 533,
     "status": "ok",
     "timestamp": 1733824389171,
     "user": {
      "displayName": "Viveksingh Negi",
      "userId": "03031367474989536110"
     },
     "user_tz": -330
    },
    "id": "138c8b98-65fb-4072-8b91-c19a3e6378b6",
    "outputId": "6b30aa62-77cf-4c78-e391-31677555df0e"
   },
   "outputs": [],
   "source": [
    "plt.plot(history.history['loss'])\n",
    "plt.plot(history.history['val_loss'])"
   ]
  },
  {
   "cell_type": "code",
   "execution_count": null,
   "id": "c5ba0391-32ab-4f3b-9964-4cc804425be3",
   "metadata": {
    "executionInfo": {
     "elapsed": 589,
     "status": "ok",
     "timestamp": 1733826079152,
     "user": {
      "displayName": "Viveksingh Negi",
      "userId": "03031367474989536110"
     },
     "user_tz": -330
    },
    "id": "c5ba0391-32ab-4f3b-9964-4cc804425be3"
   },
   "outputs": [],
   "source": [
    "from tensorflow import keras\n",
    "from keras.layers import Conv2D, Dense, Flatten, MaxPooling2D, Dropout"
   ]
  },
  {
   "cell_type": "code",
   "execution_count": null,
   "id": "3129b0bb-92fc-4ab1-a3c5-f0e5b8b09948",
   "metadata": {
    "executionInfo": {
     "elapsed": 527,
     "status": "ok",
     "timestamp": 1733826082800,
     "user": {
      "displayName": "Viveksingh Negi",
      "userId": "03031367474989536110"
     },
     "user_tz": -330
    },
    "id": "3129b0bb-92fc-4ab1-a3c5-f0e5b8b09948"
   },
   "outputs": [],
   "source": [
    "cnn = keras.Sequential()\n",
    "cnn.add(Conv2D(32, kernel_size= (3,3), strides=(1,1), padding='same', activation='relu', input_shape = (32,32,3)))\n",
    "cnn.add(MaxPooling2D((2,2)))\n",
    "cnn.add(Conv2D(64, kernel_size= (3,3), strides=(1,1), padding='same', activation='relu'))\n",
    "cnn.add(MaxPooling2D((2,2)))\n",
    "cnn.add(Conv2D(128, kernel_size= (3,3), strides=(1,1), padding='same', activation='relu'))\n",
    "cnn.add(MaxPooling2D((2,2)))\n",
    "cnn.add(Conv2D(256, kernel_size= (3,3), strides=(1,1), padding='same', activation='relu'))\n",
    "cnn.add(MaxPooling2D((2,2)))\n",
    "cnn.add(Flatten())\n",
    "cnn.add(Dense(64, activation='relu'))\n",
    "cnn.add(Dropout(0.5))\n",
    "cnn.add(Dense(10,activation='softmax'))"
   ]
  },
  {
   "cell_type": "code",
   "execution_count": null,
   "id": "ed8c6ec6-87fe-4fd0-b6d5-09212d19669c",
   "metadata": {
    "colab": {
     "base_uri": "https://localhost:8080/",
     "height": 513
    },
    "executionInfo": {
     "elapsed": 1012,
     "status": "ok",
     "timestamp": 1733825286737,
     "user": {
      "displayName": "Viveksingh Negi",
      "userId": "03031367474989536110"
     },
     "user_tz": -330
    },
    "id": "ed8c6ec6-87fe-4fd0-b6d5-09212d19669c",
    "outputId": "6c2c5b1d-07ac-4a61-ae38-ad36235705a8"
   },
   "outputs": [],
   "source": [
    "cnn.summary()"
   ]
  },
  {
   "cell_type": "code",
   "execution_count": null,
   "id": "9a0c418c-3283-4546-9ce2-a4c2ef9fe2b6",
   "metadata": {
    "executionInfo": {
     "elapsed": 531,
     "status": "ok",
     "timestamp": 1733826090682,
     "user": {
      "displayName": "Viveksingh Negi",
      "userId": "03031367474989536110"
     },
     "user_tz": -330
    },
    "id": "9a0c418c-3283-4546-9ce2-a4c2ef9fe2b6"
   },
   "outputs": [],
   "source": [
    "cnn.compile(loss='sparse_categorical_crossentropy',optimizer='adam',metrics=['accuracy'])"
   ]
  },
  {
   "cell_type": "code",
   "execution_count": null,
   "id": "82b6faf8-8078-4164-8d2e-906bc6895bbc",
   "metadata": {
    "colab": {
     "base_uri": "https://localhost:8080/"
    },
    "executionInfo": {
     "elapsed": 217709,
     "status": "ok",
     "timestamp": 1733826310152,
     "user": {
      "displayName": "Viveksingh Negi",
      "userId": "03031367474989536110"
     },
     "user_tz": -330
    },
    "id": "82b6faf8-8078-4164-8d2e-906bc6895bbc",
    "outputId": "fe7d89b2-4ae0-4ea5-b31c-ff48c7261173"
   },
   "outputs": [],
   "source": [
    "history = cnn.fit(X_train,y_train,epochs=25,validation_data=(X_test,y_test))"
   ]
  },
  {
   "cell_type": "code",
   "execution_count": null,
   "id": "s422ZB9K7_5t",
   "metadata": {
    "executionInfo": {
     "elapsed": 439,
     "status": "ok",
     "timestamp": 1733826314323,
     "user": {
      "displayName": "Viveksingh Negi",
      "userId": "03031367474989536110"
     },
     "user_tz": -330
    },
    "id": "s422ZB9K7_5t"
   },
   "outputs": [],
   "source": [
    "def plotLosses(history):\n",
    "    plt.plot(history.history['loss'])\n",
    "    plt.plot(history.history['val_loss'])\n",
    "    plt.title('model loss')\n",
    "    plt.ylabel('loss')\n",
    "    plt.xlabel('epoch')\n",
    "    plt.legend(['train', 'validation'], loc='upper right')\n",
    "    plt.show()"
   ]
  },
  {
   "cell_type": "code",
   "execution_count": null,
   "id": "gjct1tDK8G56",
   "metadata": {
    "colab": {
     "base_uri": "https://localhost:8080/",
     "height": 472
    },
    "executionInfo": {
     "elapsed": 669,
     "status": "ok",
     "timestamp": 1733825891466,
     "user": {
      "displayName": "Viveksingh Negi",
      "userId": "03031367474989536110"
     },
     "user_tz": -330
    },
    "id": "gjct1tDK8G56",
    "outputId": "d8134b69-3b75-40df-9caf-a35c09027b9a"
   },
   "outputs": [],
   "source": [
    "plotLosses(history)"
   ]
  },
  {
   "cell_type": "code",
   "execution_count": null,
   "id": "74Oq6U0t8J_Z",
   "metadata": {
    "executionInfo": {
     "elapsed": 405,
     "status": "ok",
     "timestamp": 1733826319618,
     "user": {
      "displayName": "Viveksingh Negi",
      "userId": "03031367474989536110"
     },
     "user_tz": -330
    },
    "id": "74Oq6U0t8J_Z"
   },
   "outputs": [],
   "source": [
    "def plotAccuracy(history):\n",
    "    plt.plot(history.history['accuracy'])\n",
    "    plt.plot(history.history['val_accuracy'])\n",
    "    plt.title('model Accuracy')\n",
    "    plt.ylabel('Accuracy')\n",
    "    plt.xlabel('epoch')\n",
    "    plt.legend(['train', 'validation'], loc='upper left')\n",
    "    plt.show()"
   ]
  },
  {
   "cell_type": "code",
   "execution_count": null,
   "id": "NPw7Ry4o8PV8",
   "metadata": {
    "colab": {
     "base_uri": "https://localhost:8080/",
     "height": 472
    },
    "executionInfo": {
     "elapsed": 648,
     "status": "ok",
     "timestamp": 1733826324273,
     "user": {
      "displayName": "Viveksingh Negi",
      "userId": "03031367474989536110"
     },
     "user_tz": -330
    },
    "id": "NPw7Ry4o8PV8",
    "outputId": "9dbbe39f-a584-41b8-f5eb-7b43a60206dd"
   },
   "outputs": [],
   "source": [
    "plotAccuracy(history)"
   ]
  },
  {
   "cell_type": "code",
   "execution_count": null,
   "id": "HrV1fKWa8UqB",
   "metadata": {
    "colab": {
     "base_uri": "https://localhost:8080/"
    },
    "executionInfo": {
     "elapsed": 396,
     "status": "ok",
     "timestamp": 1733826333023,
     "user": {
      "displayName": "Viveksingh Negi",
      "userId": "03031367474989536110"
     },
     "user_tz": -330
    },
    "id": "HrV1fKWa8UqB",
    "outputId": "ba1255d2-3e68-43c1-9da8-a9303283a8ce"
   },
   "outputs": [],
   "source": [
    "from keras.models import load_model\n",
    "cnn.save('cifar10_model.h5')"
   ]
  },
  {
   "cell_type": "code",
   "execution_count": null,
   "id": "nNSUiFhb8evz",
   "metadata": {
    "colab": {
     "base_uri": "https://localhost:8080/"
    },
    "executionInfo": {
     "elapsed": 432,
     "status": "ok",
     "timestamp": 1733826337874,
     "user": {
      "displayName": "Viveksingh Negi",
      "userId": "03031367474989536110"
     },
     "user_tz": -330
    },
    "id": "nNSUiFhb8evz",
    "outputId": "bd51b3e2-6013-477e-a6b8-5d1cb472bcba"
   },
   "outputs": [],
   "source": [
    "# Load the model\n",
    "model = tf.keras.models.load_model('cifar10_model.h5')"
   ]
  },
  {
   "cell_type": "code",
   "execution_count": null,
   "id": "RUhkQ-QY8oRd",
   "metadata": {
    "colab": {
     "base_uri": "https://localhost:8080/"
    },
    "executionInfo": {
     "elapsed": 397,
     "status": "ok",
     "timestamp": 1733826364514,
     "user": {
      "displayName": "Viveksingh Negi",
      "userId": "03031367474989536110"
     },
     "user_tz": -330
    },
    "id": "RUhkQ-QY8oRd",
    "outputId": "830d38b4-f84a-4a73-fffd-519853fdf153"
   },
   "outputs": [],
   "source": [
    "import numpy as np\n",
    "x_test_sample = np.expand_dims(x_test[75], axis=0)\n",
    "\n",
    "model.predict(x_test_sample)"
   ]
  },
  {
   "cell_type": "code",
   "execution_count": null,
   "id": "lkCA_WDG8wJd",
   "metadata": {
    "colab": {
     "base_uri": "https://localhost:8080/",
     "height": 447
    },
    "executionInfo": {
     "elapsed": 497,
     "status": "ok",
     "timestamp": 1733826372856,
     "user": {
      "displayName": "Viveksingh Negi",
      "userId": "03031367474989536110"
     },
     "user_tz": -330
    },
    "id": "lkCA_WDG8wJd",
    "outputId": "dc9e1fb4-843c-419a-a5f2-03df1aa19bb1"
   },
   "outputs": [],
   "source": [
    "plt.imshow(x_test[75])"
   ]
  },
  {
   "cell_type": "code",
   "execution_count": null,
   "id": "pI2oxq8Q85YK",
   "metadata": {
    "colab": {
     "base_uri": "https://localhost:8080/"
    },
    "executionInfo": {
     "elapsed": 390,
     "status": "ok",
     "timestamp": 1733826376705,
     "user": {
      "displayName": "Viveksingh Negi",
      "userId": "03031367474989536110"
     },
     "user_tz": -330
    },
    "id": "pI2oxq8Q85YK",
    "outputId": "72ba4d8a-1f86-46de-a454-e00bb8241516"
   },
   "outputs": [],
   "source": [
    "class_names = ['airplane', 'automobile', 'bird', 'cat', 'deer', 'dog', 'frog', 'horse', 'ship', 'truck'] \n",
    "\n",
    "predictions = model.predict(x_test_sample)\n",
    "predicted_class_index = np.argmax(predictions)\n",
    "predicted_class_name = class_names[predicted_class_index]\n",
    "\n",
    "print(f\"The predicted class is: {predicted_class_name}\")"
   ]
  }
 ],
 "metadata": {
  "accelerator": "GPU",
  "colab": {
   "gpuType": "T4",
   "provenance": []
  },
  "kernelspec": {
   "display_name": "Python 3 (ipykernel)",
   "language": "python",
   "name": "python3"
  },
  "language_info": {
   "codemirror_mode": {
    "name": "ipython",
    "version": 3
   },
   "file_extension": ".py",
   "mimetype": "text/x-python",
   "name": "python",
   "nbconvert_exporter": "python",
   "pygments_lexer": "ipython3",
   "version": "3.9.20"
  }
 },
 "nbformat": 4,
 "nbformat_minor": 5
}
